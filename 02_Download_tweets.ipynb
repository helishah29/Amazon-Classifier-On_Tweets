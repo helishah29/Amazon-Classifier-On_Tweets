{
 "cells": [
  {
   "cell_type": "markdown",
   "metadata": {},
   "source": [
    "## Import libraries"
   ]
  },
  {
   "cell_type": "code",
   "execution_count": 13,
   "metadata": {},
   "outputs": [],
   "source": [
    "import tweepy\n",
    "import json\n",
    "from pandas.io.json import json_normalize"
   ]
  },
  {
   "cell_type": "markdown",
   "metadata": {},
   "source": [
    "## Setup connection"
   ]
  },
  {
   "cell_type": "code",
   "execution_count": 14,
   "metadata": {},
   "outputs": [],
   "source": [
    "filename = \"credentials.json\"\n",
    "with open(filename) as file:\n",
    "    keys = json.loads(file.read())"
   ]
  },
  {
   "cell_type": "code",
   "execution_count": 15,
   "metadata": {},
   "outputs": [],
   "source": [
    "consumer_key = keys['Twitter']['consumer_key']\n",
    "consumer_secret = keys['Twitter']['consumer_secret']\n",
    "access_token = keys['Twitter']['access_token']\n",
    "access_secret = keys['Twitter']['access_secret']\n",
    "auth = tweepy.OAuthHandler(consumer_key, consumer_secret)\n",
    "auth.set_access_token(access_token, access_secret)\n",
    "api = tweepy.API(auth,\n",
    "                 wait_on_rate_limit=True,\n",
    "                 wait_on_rate_limit_notify=True,\n",
    "                 retry_count=1000,\n",
    "                 retry_delay=60)"
   ]
  },
  {
   "cell_type": "markdown",
   "metadata": {},
   "source": [
    "## Download replies tweets\n",
    "- [Sony live streaming](https://twitter.com/Sony/status/1214350830981148673)\n",
    "- [AMD Conference announcement](https://twitter.com/AMD/status/1212119569487351808)"
   ]
  },
  {
   "cell_type": "code",
   "execution_count": 16,
   "metadata": {},
   "outputs": [],
   "source": [
    "def download_replies(user_name, tweet_id):\n",
    "    replies = tweepy.Cursor(api.search,\n",
    "                            q='to:{} -filter:retweets'.format(user_name),\n",
    "                            since_id=tweet_id,\n",
    "                            tweet_mode='extended',\n",
    "                            lang='en').items()\n",
    "    all_repl = []\n",
    "    while True:\n",
    "        try:\n",
    "            reply = replies.next()\n",
    "            all_repl.append(reply)\n",
    "            if not hasattr(reply, 'in_reply_to_status_id_str'):\n",
    "                continue\n",
    "            if reply.in_reply_to_status_id == tweet_id:\n",
    "                logging.info(\"reply of tweet:{}\".format(reply.full_text))\n",
    "\n",
    "        except tweepy.RateLimitError as e:\n",
    "            logging.error(\"Twitter api rate limit reached\".format(e))\n",
    "            time.sleep(60)\n",
    "            continue\n",
    "\n",
    "        except tweepy.TweepError as e:\n",
    "            logging.error(\"Tweepy error occured:{}\".format(e))\n",
    "            break\n",
    "\n",
    "        except StopIteration:\n",
    "            break\n",
    "\n",
    "        except Exception as e:\n",
    "            logging.error(\"Failed while fetching replies {}\".format(e))\n",
    "            break\n",
    "\n",
    "    all_repl_processed = [0]*len(all_repl)\n",
    "    for i in range(len(all_repl)):\n",
    "        all_repl_processed[i] = {}\n",
    "        all_repl_processed[i][\"username\"] = all_repl[i].user.screen_name\n",
    "        all_repl_processed[i][\"text\"] = all_repl[i].full_text\n",
    "        all_repl_processed[i][\"lang\"] = all_repl[i].lang\n",
    "    return all_repl_processed"
   ]
  },
  {
   "cell_type": "markdown",
   "metadata": {},
   "source": [
    "### Download replies to Sony tweet"
   ]
  },
  {
   "cell_type": "code",
   "execution_count": 17,
   "metadata": {},
   "outputs": [
    {
     "data": {
      "text/html": [
       "<div>\n",
       "<style scoped>\n",
       "    .dataframe tbody tr th:only-of-type {\n",
       "        vertical-align: middle;\n",
       "    }\n",
       "\n",
       "    .dataframe tbody tr th {\n",
       "        vertical-align: top;\n",
       "    }\n",
       "\n",
       "    .dataframe thead th {\n",
       "        text-align: right;\n",
       "    }\n",
       "</style>\n",
       "<table border=\"1\" class=\"dataframe\">\n",
       "  <thead>\n",
       "    <tr style=\"text-align: right;\">\n",
       "      <th></th>\n",
       "      <th>username</th>\n",
       "      <th>text</th>\n",
       "      <th>lang</th>\n",
       "    </tr>\n",
       "  </thead>\n",
       "  <tbody>\n",
       "    <tr>\n",
       "      <th>0</th>\n",
       "      <td>RealCocailina</td>\n",
       "      <td>@Sony @Beyonce She is influential.</td>\n",
       "      <td>en</td>\n",
       "    </tr>\n",
       "    <tr>\n",
       "      <th>1</th>\n",
       "      <td>BTS_NOBUNDLES</td>\n",
       "      <td>@Sony @chartdata @BTS_twt Circus didn't even o...</td>\n",
       "      <td>en</td>\n",
       "    </tr>\n",
       "    <tr>\n",
       "      <th>2</th>\n",
       "      <td>monchildnj</td>\n",
       "      <td>@Sony @modooborahae @chartdata @BTS_twt jesus ...</td>\n",
       "      <td>en</td>\n",
       "    </tr>\n",
       "    <tr>\n",
       "      <th>3</th>\n",
       "      <td>bshbil</td>\n",
       "      <td>@Sony\\nThere is a company that is distributing...</td>\n",
       "      <td>en</td>\n",
       "    </tr>\n",
       "    <tr>\n",
       "      <th>4</th>\n",
       "      <td>Harsh_Pathak_ji</td>\n",
       "      <td>@Sony please #lapataganj show wapis se on air ...</td>\n",
       "      <td>en</td>\n",
       "    </tr>\n",
       "  </tbody>\n",
       "</table>\n",
       "</div>"
      ],
      "text/plain": [
       "          username                                               text lang\n",
       "0    RealCocailina                 @Sony @Beyonce She is influential.   en\n",
       "1    BTS_NOBUNDLES  @Sony @chartdata @BTS_twt Circus didn't even o...   en\n",
       "2       monchildnj  @Sony @modooborahae @chartdata @BTS_twt jesus ...   en\n",
       "3           bshbil  @Sony\\nThere is a company that is distributing...   en\n",
       "4  Harsh_Pathak_ji  @Sony please #lapataganj show wapis se on air ...   en"
      ]
     },
     "execution_count": 17,
     "metadata": {},
     "output_type": "execute_result"
    }
   ],
   "source": [
    "user_name = \"@Sony\"\n",
    "tweet_id = \"1214350830981148673\"\n",
    "sony_tweets = download_replies(user_name=user_name, tweet_id=tweet_id)\n",
    "sony_tweets = json_normalize(sony_tweets)\n",
    "sony_tweets.head()"
   ]
  },
  {
   "cell_type": "markdown",
   "metadata": {},
   "source": [
    "### Download replies to AMD tweet"
   ]
  },
  {
   "cell_type": "code",
   "execution_count": 18,
   "metadata": {},
   "outputs": [
    {
     "data": {
      "text/html": [
       "<div>\n",
       "<style scoped>\n",
       "    .dataframe tbody tr th:only-of-type {\n",
       "        vertical-align: middle;\n",
       "    }\n",
       "\n",
       "    .dataframe tbody tr th {\n",
       "        vertical-align: top;\n",
       "    }\n",
       "\n",
       "    .dataframe thead th {\n",
       "        text-align: right;\n",
       "    }\n",
       "</style>\n",
       "<table border=\"1\" class=\"dataframe\">\n",
       "  <thead>\n",
       "    <tr style=\"text-align: right;\">\n",
       "      <th></th>\n",
       "      <th>username</th>\n",
       "      <th>text</th>\n",
       "      <th>lang</th>\n",
       "    </tr>\n",
       "  </thead>\n",
       "  <tbody>\n",
       "    <tr>\n",
       "      <th>0</th>\n",
       "      <td>punx223</td>\n",
       "      <td>@AMD / @AMDRyzen 3 3100 and 3300X have landed....</td>\n",
       "      <td>en</td>\n",
       "    </tr>\n",
       "    <tr>\n",
       "      <th>1</th>\n",
       "      <td>ejsumatra</td>\n",
       "      <td>@AMD @AMDGaming Hi AMD! Kindly send a DM pleas...</td>\n",
       "      <td>en</td>\n",
       "    </tr>\n",
       "    <tr>\n",
       "      <th>2</th>\n",
       "      <td>georgertan</td>\n",
       "      <td>@amd ati .. hated amd cards for ever but had t...</td>\n",
       "      <td>en</td>\n",
       "    </tr>\n",
       "    <tr>\n",
       "      <th>3</th>\n",
       "      <td>hP0Ft4X6Yx6mX9Q</td>\n",
       "      <td>@AMD @Livermore_Lab @PenguinHPC amd，yes!</td>\n",
       "      <td>en</td>\n",
       "    </tr>\n",
       "    <tr>\n",
       "      <th>4</th>\n",
       "      <td>EchoAlpha16</td>\n",
       "      <td>@AMD I'm trying to RMA a cpu but I can't get y...</td>\n",
       "      <td>en</td>\n",
       "    </tr>\n",
       "  </tbody>\n",
       "</table>\n",
       "</div>"
      ],
      "text/plain": [
       "          username                                               text lang\n",
       "0          punx223  @AMD / @AMDRyzen 3 3100 and 3300X have landed....   en\n",
       "1        ejsumatra  @AMD @AMDGaming Hi AMD! Kindly send a DM pleas...   en\n",
       "2       georgertan  @amd ati .. hated amd cards for ever but had t...   en\n",
       "3  hP0Ft4X6Yx6mX9Q           @AMD @Livermore_Lab @PenguinHPC amd，yes!   en\n",
       "4      EchoAlpha16  @AMD I'm trying to RMA a cpu but I can't get y...   en"
      ]
     },
     "execution_count": 18,
     "metadata": {},
     "output_type": "execute_result"
    }
   ],
   "source": [
    "user_name = \"@AMD\"\n",
    "tweet_id = \"1212119569487351808\"\n",
    "amd_tweets = download_replies(user_name=user_name, tweet_id=tweet_id)\n",
    "amd_tweets = json_normalize(amd_tweets)\n",
    "amd_tweets.head()"
   ]
  },
  {
   "cell_type": "markdown",
   "metadata": {},
   "source": [
    "### Download replies to Samsung tweet "
   ]
  },
  {
   "cell_type": "code",
   "execution_count": 19,
   "metadata": {},
   "outputs": [
    {
     "data": {
      "text/html": [
       "<div>\n",
       "<style scoped>\n",
       "    .dataframe tbody tr th:only-of-type {\n",
       "        vertical-align: middle;\n",
       "    }\n",
       "\n",
       "    .dataframe tbody tr th {\n",
       "        vertical-align: top;\n",
       "    }\n",
       "\n",
       "    .dataframe thead th {\n",
       "        text-align: right;\n",
       "    }\n",
       "</style>\n",
       "<table border=\"1\" class=\"dataframe\">\n",
       "  <thead>\n",
       "    <tr style=\"text-align: right;\">\n",
       "      <th></th>\n",
       "      <th>username</th>\n",
       "      <th>text</th>\n",
       "      <th>lang</th>\n",
       "    </tr>\n",
       "  </thead>\n",
       "  <tbody>\n",
       "    <tr>\n",
       "      <th>0</th>\n",
       "      <td>anisha_hazra</td>\n",
       "      <td>@SamsungMobile @BTS_ARMY @BTS_twt Handsome moc...</td>\n",
       "      <td>en</td>\n",
       "    </tr>\n",
       "    <tr>\n",
       "      <th>1</th>\n",
       "      <td>Gawandehariom</td>\n",
       "      <td>@SamsungMobile in Samsung Galaxy m10 there wil...</td>\n",
       "      <td>en</td>\n",
       "    </tr>\n",
       "    <tr>\n",
       "      <th>2</th>\n",
       "      <td>sammeeksHQ</td>\n",
       "      <td>@SamsungMobile my Samsung note 9 keeps on sayi...</td>\n",
       "      <td>en</td>\n",
       "    </tr>\n",
       "    <tr>\n",
       "      <th>3</th>\n",
       "      <td>PoojariTia</td>\n",
       "      <td>@SamsungMobile @BTS_ARMY @BTS_twt Cutie pie💜</td>\n",
       "      <td>en</td>\n",
       "    </tr>\n",
       "    <tr>\n",
       "      <th>4</th>\n",
       "      <td>PoojariTia</td>\n",
       "      <td>@SamsungMobile @BTS_ARMY @BTS_twt Jungkook you...</td>\n",
       "      <td>en</td>\n",
       "    </tr>\n",
       "  </tbody>\n",
       "</table>\n",
       "</div>"
      ],
      "text/plain": [
       "        username                                               text lang\n",
       "0   anisha_hazra  @SamsungMobile @BTS_ARMY @BTS_twt Handsome moc...   en\n",
       "1  Gawandehariom  @SamsungMobile in Samsung Galaxy m10 there wil...   en\n",
       "2     sammeeksHQ  @SamsungMobile my Samsung note 9 keeps on sayi...   en\n",
       "3     PoojariTia       @SamsungMobile @BTS_ARMY @BTS_twt Cutie pie💜   en\n",
       "4     PoojariTia  @SamsungMobile @BTS_ARMY @BTS_twt Jungkook you...   en"
      ]
     },
     "execution_count": 19,
     "metadata": {},
     "output_type": "execute_result"
    }
   ],
   "source": [
    "user_name = \"@SamsungMobile\"\n",
    "tweet_id = \"1159826737770856448\"\n",
    "samsung_tweets = download_replies(user_name=user_name, tweet_id=tweet_id)\n",
    "samsung_tweets = json_normalize(samsung_tweets)\n",
    "samsung_tweets.head()"
   ]
  },
  {
   "cell_type": "markdown",
   "metadata": {},
   "source": [
    "## Store tweets"
   ]
  },
  {
   "cell_type": "code",
   "execution_count": 20,
   "metadata": {},
   "outputs": [
    {
     "data": {
      "text/plain": [
       "(806, 3)"
      ]
     },
     "execution_count": 20,
     "metadata": {},
     "output_type": "execute_result"
    }
   ],
   "source": [
    "sony_tweets.shape"
   ]
  },
  {
   "cell_type": "code",
   "execution_count": 21,
   "metadata": {},
   "outputs": [
    {
     "data": {
      "text/plain": [
       "(66, 3)"
      ]
     },
     "execution_count": 21,
     "metadata": {},
     "output_type": "execute_result"
    }
   ],
   "source": [
    "amd_tweets.shape"
   ]
  },
  {
   "cell_type": "code",
   "execution_count": 22,
   "metadata": {},
   "outputs": [
    {
     "data": {
      "text/plain": [
       "(1101, 3)"
      ]
     },
     "execution_count": 22,
     "metadata": {},
     "output_type": "execute_result"
    }
   ],
   "source": [
    "samsung_tweets.shape"
   ]
  },
  {
   "cell_type": "code",
   "execution_count": 23,
   "metadata": {},
   "outputs": [],
   "source": [
    "sony_tweets.to_csv('dataset/sony_replies.csv', index=False)\n",
    "amd_tweets.to_csv('dataset/amd_replies.csv', index=False)\n",
    "samsung_tweets.to_csv('dataset/samsung_tweets.csv', index=False)"
   ]
  },
  {
   "cell_type": "markdown",
   "metadata": {},
   "source": [
    "## Download tweets related to CES 2020"
   ]
  },
  {
   "cell_type": "code",
   "execution_count": 24,
   "metadata": {},
   "outputs": [],
   "source": [
    "def collect_tweets_from_query(api, query, number_of_tweets = 2000):\n",
    "\n",
    "    result = []\n",
    "    backoff_counter = 1\n",
    "    tweets = tweepy.Cursor(api.search,\n",
    "                           q=\"{} -filter:retweets\".format(query), #for reducing the number of calls\n",
    "                           lang='en', tweet_mode='extended'\n",
    "                           ).items(number_of_tweets)\n",
    "\n",
    "    while True:\n",
    "        try:\n",
    "            tweet = tweets.next()\n",
    "            filtered_tweet = {\n",
    "                \"text\": tweet.full_text,\n",
    "                \"lang\": tweet.lang,\n",
    "                \"username\": tweet.user.screen_name,\n",
    "            }\n",
    "            result.append(filtered_tweet)\n",
    "        except StopIteration:\n",
    "            break\n",
    "        except tweepy.TweepError:\n",
    "            print(\"Reached Tweet limits, waiting for {} seconds\".format(60 * backoff_counter))\n",
    "            sleep(60 * backoff_counter)\n",
    "            backoff_counter += 1\n",
    "            continue\n",
    "    return result\n"
   ]
  },
  {
   "cell_type": "code",
   "execution_count": 25,
   "metadata": {},
   "outputs": [],
   "source": [
    "ces2020_tweets = collect_tweets_from_query(api, \"#CES2020\")"
   ]
  },
  {
   "cell_type": "code",
   "execution_count": 26,
   "metadata": {},
   "outputs": [],
   "source": [
    "ces2020_tweets = json_normalize(ces2020_tweets)"
   ]
  },
  {
   "cell_type": "code",
   "execution_count": 27,
   "metadata": {
    "scrolled": true
   },
   "outputs": [
    {
     "data": {
      "text/html": [
       "<div>\n",
       "<style scoped>\n",
       "    .dataframe tbody tr th:only-of-type {\n",
       "        vertical-align: middle;\n",
       "    }\n",
       "\n",
       "    .dataframe tbody tr th {\n",
       "        vertical-align: top;\n",
       "    }\n",
       "\n",
       "    .dataframe thead th {\n",
       "        text-align: right;\n",
       "    }\n",
       "</style>\n",
       "<table border=\"1\" class=\"dataframe\">\n",
       "  <thead>\n",
       "    <tr style=\"text-align: right;\">\n",
       "      <th></th>\n",
       "      <th>text</th>\n",
       "      <th>lang</th>\n",
       "      <th>username</th>\n",
       "    </tr>\n",
       "  </thead>\n",
       "  <tbody>\n",
       "    <tr>\n",
       "      <th>0</th>\n",
       "      <td>@BStoly @mashable Brenda, blockbuster story! \\...</td>\n",
       "      <td>en</td>\n",
       "      <td>ScanMyPhotos</td>\n",
       "    </tr>\n",
       "    <tr>\n",
       "      <th>1</th>\n",
       "      <td>Could #CES2020 have been the event that spread...</td>\n",
       "      <td>en</td>\n",
       "      <td>dsilverman</td>\n",
       "    </tr>\n",
       "    <tr>\n",
       "      <th>2</th>\n",
       "      <td>#Segway’s S-Pod makes WALL-E’s hoverchair a re...</td>\n",
       "      <td>en</td>\n",
       "      <td>v_shakthi</td>\n",
       "    </tr>\n",
       "    <tr>\n",
       "      <th>3</th>\n",
       "      <td>News coming out that #CES2020 may have been th...</td>\n",
       "      <td>en</td>\n",
       "      <td>dc_colombo</td>\n",
       "    </tr>\n",
       "    <tr>\n",
       "      <th>4</th>\n",
       "      <td>If you missed it, check this story about the #...</td>\n",
       "      <td>en</td>\n",
       "      <td>nycbat</td>\n",
       "    </tr>\n",
       "  </tbody>\n",
       "</table>\n",
       "</div>"
      ],
      "text/plain": [
       "                                                text lang      username\n",
       "0  @BStoly @mashable Brenda, blockbuster story! \\...   en  ScanMyPhotos\n",
       "1  Could #CES2020 have been the event that spread...   en    dsilverman\n",
       "2  #Segway’s S-Pod makes WALL-E’s hoverchair a re...   en     v_shakthi\n",
       "3  News coming out that #CES2020 may have been th...   en    dc_colombo\n",
       "4  If you missed it, check this story about the #...   en        nycbat"
      ]
     },
     "execution_count": 27,
     "metadata": {},
     "output_type": "execute_result"
    }
   ],
   "source": [
    "ces2020_tweets.head()"
   ]
  },
  {
   "cell_type": "code",
   "execution_count": 28,
   "metadata": {},
   "outputs": [],
   "source": [
    "ces2020_tweets.to_csv(\"dataset/ces2020_tweets_full_text.csv\", index=False)"
   ]
  },
  {
   "cell_type": "code",
   "execution_count": null,
   "metadata": {},
   "outputs": [],
   "source": []
  }
 ],
 "metadata": {
  "kernelspec": {
   "display_name": "Python 3",
   "language": "python",
   "name": "python3"
  },
  "language_info": {
   "codemirror_mode": {
    "name": "ipython",
    "version": 3
   },
   "file_extension": ".py",
   "mimetype": "text/x-python",
   "name": "python",
   "nbconvert_exporter": "python",
   "pygments_lexer": "ipython3",
   "version": "3.7.2"
  }
 },
 "nbformat": 4,
 "nbformat_minor": 2
}
